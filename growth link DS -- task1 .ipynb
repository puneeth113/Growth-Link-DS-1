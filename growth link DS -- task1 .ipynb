{
 "cells": [
  {
   "cell_type": "markdown",
   "id": "e3ff8160-e1ac-4dca-961c-ad49c4300e68",
   "metadata": {},
   "source": [
    "# Analysis Report: Predicting Passenger Survival on the Titanic\n",
    "**Author**: PUNEETH G S  "
   ]
  },
  {
   "cell_type": "code",
   "execution_count": null,
   "id": "34ade1e7-5223-4542-aba2-c11b03f527a0",
   "metadata": {},
   "outputs": [],
   "source": []
  },
  {
   "cell_type": "markdown",
   "id": "916208de-4d62-45b3-9723-576c6d8691a8",
   "metadata": {},
   "source": [
    "# Analysis of Predicting Passenger Survival on the Titanic\n",
    "# source : kaggle"
   ]
  },
  {
   "cell_type": "code",
   "execution_count": null,
   "id": "ecd08ce9-4e6b-48bb-8aa1-efa740005bb0",
   "metadata": {},
   "outputs": [],
   "source": []
  },
  {
   "cell_type": "markdown",
   "id": "a594fe90-d838-4035-8eb8-b6a638846c8d",
   "metadata": {},
   "source": [
    "\n",
    "## 1. Identifying Key Factors\n",
    "- **Data Exploration**: Start with exploratory data analysis (EDA) to understand the relationships between features and survival.\n",
    "  - Use visualizations (e.g., bar charts, histograms) to observe distributions.\n",
    "  - Perform correlation analysis to see how attributes relate to survival.\n",
    "\n",
    "## 2. Data Preprocessing & Feature Engineering\n",
    "- **Handling Missing Values**:\n",
    "  - Check for missing data in key columns (e.g., Age, Cabin).\n",
    "  - Impute missing values (e.g., using the median for Age, or creating a new category for missing Cabins).\n",
    "  \n",
    "- **Encoding Categorical Variables**:\n",
    "  - Convert categorical features (like 'Sex' and 'Embarked') into numerical values (e.g., using one-hot encoding).\n",
    "\n",
    "- **Creating New Features**:\n",
    "  - **Family Size**: Combine 'SibSp' (siblings/spouses aboard) and 'Parch' (parents/children aboard) to create a 'FamilySize' feature.\n",
    "  - **Title Extraction**: Extract titles from names to analyze social status (e.g., Mr., Mrs., Miss).\n",
    "\n",
    "## 3. Model Development & Evaluation\n",
    "- **Model Selection**:\n",
    "  - Start with **Logistic Regression**: Good for baseline performance; interpretable results.\n",
    "  - Implement a **Random Forest**: Useful for capturing non-linear relationships and interactions.\n",
    "  \n",
    "- **Model Training**:\n",
    "  - Split the dataset into training and test sets (e.g., 80/20 split).\n",
    "  - Train models on the training set with appropriate hyperparameters.\n",
    "\n",
    "- **Evaluation**:\n",
    "  - Use metrics such as accuracy, precision, recall, and F1-score to evaluate model performance.\n",
    "  - Consider ROC-AUC for a more nuanced view of model discrimination ability.\n",
    "\n",
    "## 4. Interpreting Results\n",
    "- **Model Performance Analysis**: \n",
    "  - Compare accuracy and other metrics between models.\n",
    "  - Use **feature importance** from Random Forest to identify key factors contributing to survival.\n",
    "\n",
    "- **Insights & Biases**:\n",
    "  - Analyze how features like gender and class affect survival rates.\n",
    "  - Discuss any biases observed in the dataset and their potential implications.\n",
    "\n",
    "### Optional Next Steps\n",
    "- **Hyperparameter Tuning**: Optimize model performance through grid search or random search.\n",
    "- **Cross-Validation**: Implement k-fold cross-validation to ensure the model's robustness.\n",
    "- **Visualization of Results**: Use confusion matrices and feature importance plots to communicate findings.\n"
   ]
  },
  {
   "cell_type": "code",
   "execution_count": null,
   "id": "186f105f-d1da-4100-bcae-0f3140eaf044",
   "metadata": {},
   "outputs": [],
   "source": []
  },
  {
   "cell_type": "markdown",
   "id": "7caa6fc4-6571-489e-8ebe-4935f43278d0",
   "metadata": {},
   "source": [
    "# data description \n",
    "1. **User_ID**: `string` - A unique identifier for each user (e.g., a shortened version of a UUID).\n",
    "2. **Product_ID**: `string` - A unique identifier for each product (e.g., a shortened version of a UUID).\n",
    "3. **Category**: `string` - The product category (e.g., Electronics, Clothing, Sports, etc.).\n",
    "4. **Price**: `float64` - The original price of the product before any discount is applied.\n",
    "5. **Discount (%)**: `float64` - The discount percentage applied to the product.\n",
    "6. **Final_Price**: `float64` - The final price of the product after applying the discount.\n",
    "7. **Payment_Method**: `string` - The method used for payment (e.g., Credit Card, UPI, Net Banking).\n",
    "8. **Purchase_Date**: `date` - The date when the transaction occurred, formatted as MM-DD-YYYY.\n",
    "\n"
   ]
  },
  {
   "cell_type": "code",
   "execution_count": null,
   "id": "0bc80a2d-263b-410f-ba08-65da30734eaa",
   "metadata": {},
   "outputs": [],
   "source": []
  },
  {
   "cell_type": "code",
   "execution_count": null,
   "id": "b05250b1-11aa-4500-9a8f-81cc35c87f19",
   "metadata": {},
   "outputs": [],
   "source": []
  },
  {
   "cell_type": "markdown",
   "id": "b78e65d2-a16f-46a6-ac88-95206f57c0b7",
   "metadata": {},
   "source": [
    "\n",
    "\r\n",
    "## Methodology Overview\r\n",
    "\r\n",
    "### 1. Load and Explore the Dataset\r\n",
    "- Import the Titanic dataset and examine its structure.\r\n",
    "- Identify feature types (categorical, numerical) and check for missing values.\r\n",
    "\r\n",
    "### 2. Perform Data Cleaning and Preprocessing\r\n",
    "- Impute missing values (median for age, mode for embarkation).\r\n",
    "- Convert categorical variables to numerical format.\r\n",
    "- Create new features like \"Family Size\" and \"Title.\"\r\n",
    "- Normalize or scale numerical features if necessary.\r\n",
    "\r\n",
    "### 3. Analyze and Visualize Key Metrics\r\n",
    "- Explore survival distribution by key variables (e.g., gender, class).\r\n",
    "- Use visualizations (bar charts, heatmaps) to identify patterns.\r\n",
    "- Analyze correlations between features and their impact on survival.\r\n",
    "\r\n",
    "### 4. Develop and Evaluate Machine Learning Models\r\n",
    "- Split the dataset into training and testing sets.\r\n",
    "- Train models like Logistic Regression and Random Forest.\r\n",
    "- Compare performance using accuracy, precision, recall, and F1-score.\r\n",
    "- Optimize the best model through hyperparameter tuning.\r\n",
    "\r\n",
    "### 5. Draw Conclusions and Provide Recommendations\r\n",
    "- Interpret key findings and identify influential survival factors.\r\n",
    "- Suggest improvements for model performance.\r\n",
    "- Discuss the approach's applicability to othetails on any specific section!"
   ]
  },
  {
   "cell_type": "code",
   "execution_count": null,
   "id": "f756404b-92c9-47fc-8ef7-2b6d1ae2e907",
   "metadata": {},
   "outputs": [],
   "source": []
  },
  {
   "cell_type": "code",
   "execution_count": null,
   "id": "69f673a1-fc1e-4546-8aac-71c2e0ecf206",
   "metadata": {},
   "outputs": [],
   "source": []
  },
  {
   "cell_type": "code",
   "execution_count": 1,
   "id": "f269467c-db78-4ece-9fbe-e02e4512d4b9",
   "metadata": {},
   "outputs": [],
   "source": [
    "#importing the necessary modules \n",
    "import numpy as np\n",
    "import pandas as pd\n",
    "import matplotlib.pyplot as plt\n",
    "import seaborn as sns\n",
    "import warnings\n",
    "warnings.filterwarnings(\"ignore\")\n"
   ]
  },
  {
   "cell_type": "code",
   "execution_count": null,
   "id": "f5888ae1-53c3-47bc-9e88-3137ee40bfbe",
   "metadata": {},
   "outputs": [],
   "source": []
  },
  {
   "cell_type": "code",
   "execution_count": 2,
   "id": "99163e4a-7293-47cf-99c9-40aac47935c5",
   "metadata": {},
   "outputs": [],
   "source": [
    "# reading the data \n",
    "data = pd.read_csv(r\"C:\\Users\\punee\\Downloads\\titanic_dataset\\tested.csv\")"
   ]
  },
  {
   "cell_type": "code",
   "execution_count": null,
   "id": "09cec514-59f5-477b-b526-f5a1834abd6b",
   "metadata": {},
   "outputs": [],
   "source": []
  },
  {
   "cell_type": "code",
   "execution_count": 3,
   "id": "2d65a442-0062-4b00-9a82-3e753eb2ac7c",
   "metadata": {},
   "outputs": [
    {
     "data": {
      "text/html": [
       "<div>\n",
       "<style scoped>\n",
       "    .dataframe tbody tr th:only-of-type {\n",
       "        vertical-align: middle;\n",
       "    }\n",
       "\n",
       "    .dataframe tbody tr th {\n",
       "        vertical-align: top;\n",
       "    }\n",
       "\n",
       "    .dataframe thead th {\n",
       "        text-align: right;\n",
       "    }\n",
       "</style>\n",
       "<table border=\"1\" class=\"dataframe\">\n",
       "  <thead>\n",
       "    <tr style=\"text-align: right;\">\n",
       "      <th></th>\n",
       "      <th>PassengerId</th>\n",
       "      <th>Survived</th>\n",
       "      <th>Pclass</th>\n",
       "      <th>Name</th>\n",
       "      <th>Sex</th>\n",
       "      <th>Age</th>\n",
       "      <th>SibSp</th>\n",
       "      <th>Parch</th>\n",
       "      <th>Ticket</th>\n",
       "      <th>Fare</th>\n",
       "      <th>Cabin</th>\n",
       "      <th>Embarked</th>\n",
       "    </tr>\n",
       "  </thead>\n",
       "  <tbody>\n",
       "    <tr>\n",
       "      <th>0</th>\n",
       "      <td>892</td>\n",
       "      <td>0</td>\n",
       "      <td>3</td>\n",
       "      <td>Kelly, Mr. James</td>\n",
       "      <td>male</td>\n",
       "      <td>34.5</td>\n",
       "      <td>0</td>\n",
       "      <td>0</td>\n",
       "      <td>330911</td>\n",
       "      <td>7.8292</td>\n",
       "      <td>NaN</td>\n",
       "      <td>Q</td>\n",
       "    </tr>\n",
       "    <tr>\n",
       "      <th>1</th>\n",
       "      <td>893</td>\n",
       "      <td>1</td>\n",
       "      <td>3</td>\n",
       "      <td>Wilkes, Mrs. James (Ellen Needs)</td>\n",
       "      <td>female</td>\n",
       "      <td>47.0</td>\n",
       "      <td>1</td>\n",
       "      <td>0</td>\n",
       "      <td>363272</td>\n",
       "      <td>7.0000</td>\n",
       "      <td>NaN</td>\n",
       "      <td>S</td>\n",
       "    </tr>\n",
       "    <tr>\n",
       "      <th>2</th>\n",
       "      <td>894</td>\n",
       "      <td>0</td>\n",
       "      <td>2</td>\n",
       "      <td>Myles, Mr. Thomas Francis</td>\n",
       "      <td>male</td>\n",
       "      <td>62.0</td>\n",
       "      <td>0</td>\n",
       "      <td>0</td>\n",
       "      <td>240276</td>\n",
       "      <td>9.6875</td>\n",
       "      <td>NaN</td>\n",
       "      <td>Q</td>\n",
       "    </tr>\n",
       "    <tr>\n",
       "      <th>3</th>\n",
       "      <td>895</td>\n",
       "      <td>0</td>\n",
       "      <td>3</td>\n",
       "      <td>Wirz, Mr. Albert</td>\n",
       "      <td>male</td>\n",
       "      <td>27.0</td>\n",
       "      <td>0</td>\n",
       "      <td>0</td>\n",
       "      <td>315154</td>\n",
       "      <td>8.6625</td>\n",
       "      <td>NaN</td>\n",
       "      <td>S</td>\n",
       "    </tr>\n",
       "    <tr>\n",
       "      <th>4</th>\n",
       "      <td>896</td>\n",
       "      <td>1</td>\n",
       "      <td>3</td>\n",
       "      <td>Hirvonen, Mrs. Alexander (Helga E Lindqvist)</td>\n",
       "      <td>female</td>\n",
       "      <td>22.0</td>\n",
       "      <td>1</td>\n",
       "      <td>1</td>\n",
       "      <td>3101298</td>\n",
       "      <td>12.2875</td>\n",
       "      <td>NaN</td>\n",
       "      <td>S</td>\n",
       "    </tr>\n",
       "  </tbody>\n",
       "</table>\n",
       "</div>"
      ],
      "text/plain": [
       "   PassengerId  Survived  Pclass  \\\n",
       "0          892         0       3   \n",
       "1          893         1       3   \n",
       "2          894         0       2   \n",
       "3          895         0       3   \n",
       "4          896         1       3   \n",
       "\n",
       "                                           Name     Sex   Age  SibSp  Parch  \\\n",
       "0                              Kelly, Mr. James    male  34.5      0      0   \n",
       "1              Wilkes, Mrs. James (Ellen Needs)  female  47.0      1      0   \n",
       "2                     Myles, Mr. Thomas Francis    male  62.0      0      0   \n",
       "3                              Wirz, Mr. Albert    male  27.0      0      0   \n",
       "4  Hirvonen, Mrs. Alexander (Helga E Lindqvist)  female  22.0      1      1   \n",
       "\n",
       "    Ticket     Fare Cabin Embarked  \n",
       "0   330911   7.8292   NaN        Q  \n",
       "1   363272   7.0000   NaN        S  \n",
       "2   240276   9.6875   NaN        Q  \n",
       "3   315154   8.6625   NaN        S  \n",
       "4  3101298  12.2875   NaN        S  "
      ]
     },
     "execution_count": 3,
     "metadata": {},
     "output_type": "execute_result"
    }
   ],
   "source": [
    "# data top 5 columns \n",
    "data.head()"
   ]
  },
  {
   "cell_type": "code",
   "execution_count": null,
   "id": "5e232204-0a7e-4982-bcf9-d2b6996aaa32",
   "metadata": {},
   "outputs": [],
   "source": []
  },
  {
   "cell_type": "code",
   "execution_count": null,
   "id": "22375973-a133-4438-8ad6-c910eddd7f53",
   "metadata": {},
   "outputs": [],
   "source": []
  },
  {
   "cell_type": "code",
   "execution_count": 4,
   "id": "34d79472-fb9c-447e-8fe9-6a5aaa22d1ff",
   "metadata": {},
   "outputs": [
    {
     "name": "stdout",
     "output_type": "stream",
     "text": [
      "<class 'pandas.core.frame.DataFrame'>\n",
      "RangeIndex: 418 entries, 0 to 417\n",
      "Data columns (total 12 columns):\n",
      " #   Column       Non-Null Count  Dtype  \n",
      "---  ------       --------------  -----  \n",
      " 0   PassengerId  418 non-null    int64  \n",
      " 1   Survived     418 non-null    int64  \n",
      " 2   Pclass       418 non-null    int64  \n",
      " 3   Name         418 non-null    object \n",
      " 4   Sex          418 non-null    object \n",
      " 5   Age          332 non-null    float64\n",
      " 6   SibSp        418 non-null    int64  \n",
      " 7   Parch        418 non-null    int64  \n",
      " 8   Ticket       418 non-null    object \n",
      " 9   Fare         417 non-null    float64\n",
      " 10  Cabin        91 non-null     object \n",
      " 11  Embarked     418 non-null    object \n",
      "dtypes: float64(2), int64(5), object(5)\n",
      "memory usage: 39.3+ KB\n"
     ]
    }
   ],
   "source": [
    "# getting the information\n",
    "data.info()"
   ]
  },
  {
   "cell_type": "code",
   "execution_count": null,
   "id": "f18e65bf-b2b0-47ef-b435-3a0d6431f33e",
   "metadata": {},
   "outputs": [],
   "source": []
  },
  {
   "cell_type": "code",
   "execution_count": 5,
   "id": "9aaa2d85-da8f-4f29-93d7-ab87de3c7899",
   "metadata": {},
   "outputs": [],
   "source": [
    "# drop the duplicate \n",
    "data.drop_duplicates(inplace=True)\n",
    "data.reset_index(inplace=True , drop=True)"
   ]
  },
  {
   "cell_type": "code",
   "execution_count": null,
   "id": "fa0c50c5-1dcc-48f4-8135-02c715e6e552",
   "metadata": {},
   "outputs": [],
   "source": []
  },
  {
   "cell_type": "code",
   "execution_count": 6,
   "id": "b6998cc4-334e-4266-8490-602c23977afe",
   "metadata": {},
   "outputs": [
    {
     "name": "stdout",
     "output_type": "stream",
     "text": [
      "Age       86\n",
      "Fare       1\n",
      "Cabin    327\n",
      "dtype: int64\n"
     ]
    }
   ],
   "source": [
    "# check for null values\n",
    "\n",
    "null_counts = data.isnull().sum()\n",
    "if null_counts.sum() >0:\n",
    "    print(null_counts[null_counts>0])"
   ]
  },
  {
   "cell_type": "code",
   "execution_count": null,
   "id": "b7f04362-0113-4393-bd7c-0d1155e36a63",
   "metadata": {},
   "outputs": [],
   "source": []
  },
  {
   "cell_type": "code",
   "execution_count": 7,
   "id": "c143e6c1-e9ed-449b-8b37-f28871b614d9",
   "metadata": {},
   "outputs": [],
   "source": [
    "# if the data is 5-10% null values \n",
    "data = data[data['Age'].notna()]"
   ]
  },
  {
   "cell_type": "code",
   "execution_count": 8,
   "id": "e69ddc4b-5d1d-4683-86a1-abf0578ce15e",
   "metadata": {},
   "outputs": [],
   "source": [
    "# the 70 drop column \n",
    "data.drop(columns={\"Cabin\"} , inplace=True)"
   ]
  },
  {
   "cell_type": "code",
   "execution_count": null,
   "id": "bb92c962-71a7-4d4d-81d7-b60bb5951e8a",
   "metadata": {},
   "outputs": [],
   "source": []
  },
  {
   "cell_type": "code",
   "execution_count": 9,
   "id": "1f92767e-ebc6-4e2c-a467-fc16e3a9a593",
   "metadata": {},
   "outputs": [],
   "source": [
    "data['Fare'] = data['Fare'].fillna(data['Fare'].median())"
   ]
  },
  {
   "cell_type": "code",
   "execution_count": null,
   "id": "3bbb9af5-28a9-4b94-ab46-f0147346c44c",
   "metadata": {},
   "outputs": [],
   "source": []
  },
  {
   "cell_type": "code",
   "execution_count": 10,
   "id": "1d2076a3-ccf1-42be-b894-199c4cfd9909",
   "metadata": {},
   "outputs": [
    {
     "data": {
      "text/plain": [
       "PassengerId    0\n",
       "Survived       0\n",
       "Pclass         0\n",
       "Name           0\n",
       "Sex            0\n",
       "Age            0\n",
       "SibSp          0\n",
       "Parch          0\n",
       "Ticket         0\n",
       "Fare           0\n",
       "Embarked       0\n",
       "dtype: int64"
      ]
     },
     "execution_count": 10,
     "metadata": {},
     "output_type": "execute_result"
    }
   ],
   "source": [
    "data.isnull().sum()"
   ]
  },
  {
   "cell_type": "code",
   "execution_count": 11,
   "id": "ed9e3ab7-1da6-4c7a-88b6-328dad3cd199",
   "metadata": {},
   "outputs": [],
   "source": [
    "# drop duplicate \n",
    "data.drop_duplicates(inplace=True)\n",
    "data.reset_index(inplace=True)"
   ]
  },
  {
   "cell_type": "code",
   "execution_count": null,
   "id": "eafd22a8-c0ef-4ee3-92ed-ff06bd83b43a",
   "metadata": {},
   "outputs": [],
   "source": []
  },
  {
   "cell_type": "code",
   "execution_count": 12,
   "id": "64497051-47f5-459d-8d2e-d9dffa4741a0",
   "metadata": {},
   "outputs": [
    {
     "data": {
      "text/plain": [
       "index            int64\n",
       "PassengerId      int64\n",
       "Survived         int64\n",
       "Pclass           int64\n",
       "Name            object\n",
       "Sex             object\n",
       "Age            float64\n",
       "SibSp            int64\n",
       "Parch            int64\n",
       "Ticket          object\n",
       "Fare           float64\n",
       "Embarked        object\n",
       "dtype: object"
      ]
     },
     "execution_count": 12,
     "metadata": {},
     "output_type": "execute_result"
    }
   ],
   "source": [
    "# checking for the data types\n",
    "data.dtypes"
   ]
  },
  {
   "cell_type": "code",
   "execution_count": 13,
   "id": "30a949ae-992c-4488-b0e4-d6f75240ce8c",
   "metadata": {},
   "outputs": [],
   "source": [
    "# changing the Age int \n",
    "data['Age'] = data['Age'].astype(\"int\")"
   ]
  },
  {
   "cell_type": "code",
   "execution_count": 14,
   "id": "3b664f4e-25c7-4699-aafc-2550f04acd6c",
   "metadata": {},
   "outputs": [
    {
     "data": {
      "image/png": "[encoded data removed]",
      "text/plain": [
       "<Figure size 1000x500 with 1 Axes>"
      ]
     },
     "metadata": {},
     "output_type": "display_data"
    }
   ],
   "source": [
    "plt.figure(figsize=(10,5))\n",
    "sns.boxplot(data = data['Fare'])\n",
    "plt.show()\n"
   ]
  },
  {
   "cell_type": "code",
   "execution_count": 15,
   "id": "b76a01f9-b5a0-4fab-9f06-883de12de03a",
   "metadata": {},
   "outputs": [
    {
     "data": {
      "text/plain": [
       "Index(['index', 'PassengerId', 'Survived', 'Pclass', 'Name', 'Sex', 'Age',\n",
       "       'SibSp', 'Parch', 'Ticket', 'Fare', 'Embarked'],\n",
       "      dtype='object')"
      ]
     },
     "execution_count": 15,
     "metadata": {},
     "output_type": "execute_result"
    }
   ],
   "source": [
    "data.columns"
   ]
  },
  {
   "cell_type": "code",
   "execution_count": 16,
   "id": "eb964ccc-6fff-4007-80e9-488bfa12a0dd",
   "metadata": {},
   "outputs": [],
   "source": [
    "# handling outliers\n",
    "data = data[data['Fare']<500]"
   ]
  },
  {
   "cell_type": "code",
   "execution_count": 17,
   "id": "63979076-885a-4517-897f-bbdb38fa4184",
   "metadata": {},
   "outputs": [],
   "source": [
    "# calculate Z_score \n",
    "z_score = np.abs(data[['Age' , \"SibSp\"]] - data[['Age' , \"SibSp\"]].mean()) / data[[\"Age\" , \"SibSp\"]].std()"
   ]
  },
  {
   "cell_type": "code",
   "execution_count": null,
   "id": "5b04ef45-62cb-494d-aed5-2dc4a5565f08",
   "metadata": {},
   "outputs": [],
   "source": []
  },
  {
   "cell_type": "code",
   "execution_count": 18,
   "id": "eb39b91b-17b9-4b28-a26e-de9dc64be940",
   "metadata": {},
   "outputs": [],
   "source": [
    "# oytlier with threshold \n",
    "outlier_treshold = 3\n",
    "outliers = data[(np.abs(z_score['Age']) > outlier_treshold) | (np.abs(z_score['SibSp']) > outlier_treshold)]\n"
   ]
  },
  {
   "cell_type": "code",
   "execution_count": 19,
   "id": "a028a253-8d70-4603-bbfa-787df50baedb",
   "metadata": {},
   "outputs": [
    {
     "name": "stdout",
     "output_type": "stream",
     "text": [
      "     index  PassengerId  Survived  Pclass  \\\n",
      "46      55          947         0       3   \n",
      "78      96          988         1       1   \n",
      "112    140         1032         1       3   \n",
      "123    154         1046         0       3   \n",
      "171    214         1106         1       3   \n",
      "284    360         1252         0       3   \n",
      "301    379         1271         0       3   \n",
      "\n",
      "                                                  Name     Sex  Age  SibSp  \\\n",
      "46                                Rice, Master. Albert    male   10      4   \n",
      "78   Cavendish, Mrs. Tyrell William (Julia Florence...  female   76      1   \n",
      "112                        Goodwin, Miss. Jessie Allis  female   10      5   \n",
      "123                       Asplund, Master. Filip Oscar    male   13      4   \n",
      "171             Andersson, Miss. Ida Augusta Margareta  female   38      4   \n",
      "284                        Sage, Master. William Henry    male   14      8   \n",
      "301                        Asplund, Master. Carl Edgar    male    5      4   \n",
      "\n",
      "     Parch    Ticket     Fare Embarked  \n",
      "46       1    382652  29.1250        Q  \n",
      "78       0     19877  78.8500        S  \n",
      "112      2   CA 2144  46.9000        S  \n",
      "123      2    347077  31.3875        S  \n",
      "171      2    347091   7.7750        S  \n",
      "284      2  CA. 2343  69.5500        S  \n",
      "301      2    347077  31.3875        S  \n"
     ]
    }
   ],
   "source": [
    "print(outliers)"
   ]
  },
  {
   "cell_type": "code",
   "execution_count": null,
   "id": "c83c853b-eba7-4e65-9807-42d0cd8f67aa",
   "metadata": {},
   "outputs": [],
   "source": []
  },
  {
   "cell_type": "code",
   "execution_count": 20,
   "id": "4ff607ac-4a63-40e7-91d5-19dbe330675a",
   "metadata": {},
   "outputs": [],
   "source": [
    "# apply the 95 percentile \n",
    "age_threshold = data['Age'].quantile(0.95)\n",
    "sisb_threshiold = data['SibSp'].quantile(0.95)\n"
   ]
  },
  {
   "cell_type": "code",
   "execution_count": 21,
   "id": "5e436e59-2bdb-4ef1-91b0-c02a6b4059a7",
   "metadata": {},
   "outputs": [],
   "source": [
    "data['Age'] = np.where(data['Age'] > age_threshold ,age_threshold , data['Age'])\n",
    "data['SibSp'] = np.where(data[\"SibSp\"] > sisb_threshiold, sisb_threshiold ,  data['SibSp'])"
   ]
  },
  {
   "cell_type": "code",
   "execution_count": null,
   "id": "f47ec439-3d09-408f-8b05-7c082828d0a3",
   "metadata": {},
   "outputs": [],
   "source": []
  },
  {
   "cell_type": "code",
   "execution_count": 22,
   "id": "9ce4a983-7f8a-4fd0-8275-cc99e9895caa",
   "metadata": {},
   "outputs": [
    {
     "data": {
      "text/plain": [
       "Index(['index', 'PassengerId', 'Survived', 'Pclass', 'Name', 'Sex', 'Age',\n",
       "       'SibSp', 'Parch', 'Ticket', 'Fare', 'Embarked'],\n",
       "      dtype='object')"
      ]
     },
     "execution_count": 22,
     "metadata": {},
     "output_type": "execute_result"
    }
   ],
   "source": [
    "# drop the columns \n",
    "data.columns"
   ]
  },
  {
   "cell_type": "code",
   "execution_count": null,
   "id": "ace198f8-0d67-4ce4-b8e2-497d4d078db4",
   "metadata": {},
   "outputs": [],
   "source": []
  },
  {
   "cell_type": "code",
   "execution_count": 23,
   "id": "aa38532f-c941-4e51-986e-bd2a9500431d",
   "metadata": {},
   "outputs": [],
   "source": [
    "data.drop(columns={\"Name\"} ,inplace=True)"
   ]
  },
  {
   "cell_type": "code",
   "execution_count": 24,
   "id": "406743ee-a9d6-427f-be82-aa1114c521a0",
   "metadata": {},
   "outputs": [
    {
     "data": {
      "text/html": [
       "<div>\n",
       "<style scoped>\n",
       "    .dataframe tbody tr th:only-of-type {\n",
       "        vertical-align: middle;\n",
       "    }\n",
       "\n",
       "    .dataframe tbody tr th {\n",
       "        vertical-align: top;\n",
       "    }\n",
       "\n",
       "    .dataframe thead th {\n",
       "        text-align: right;\n",
       "    }\n",
       "</style>\n",
       "<table border=\"1\" class=\"dataframe\">\n",
       "  <thead>\n",
       "    <tr style=\"text-align: right;\">\n",
       "      <th></th>\n",
       "      <th>index</th>\n",
       "      <th>PassengerId</th>\n",
       "      <th>Survived</th>\n",
       "      <th>Pclass</th>\n",
       "      <th>Sex</th>\n",
       "      <th>Age</th>\n",
       "      <th>SibSp</th>\n",
       "      <th>Parch</th>\n",
       "      <th>Ticket</th>\n",
       "      <th>Fare</th>\n",
       "      <th>Embarked</th>\n",
       "    </tr>\n",
       "  </thead>\n",
       "  <tbody>\n",
       "    <tr>\n",
       "      <th>0</th>\n",
       "      <td>0</td>\n",
       "      <td>892</td>\n",
       "      <td>0</td>\n",
       "      <td>3</td>\n",
       "      <td>male</td>\n",
       "      <td>34.0</td>\n",
       "      <td>0.0</td>\n",
       "      <td>0</td>\n",
       "      <td>330911</td>\n",
       "      <td>7.8292</td>\n",
       "      <td>Q</td>\n",
       "    </tr>\n",
       "    <tr>\n",
       "      <th>1</th>\n",
       "      <td>1</td>\n",
       "      <td>893</td>\n",
       "      <td>1</td>\n",
       "      <td>3</td>\n",
       "      <td>female</td>\n",
       "      <td>47.0</td>\n",
       "      <td>1.0</td>\n",
       "      <td>0</td>\n",
       "      <td>363272</td>\n",
       "      <td>7.0000</td>\n",
       "      <td>S</td>\n",
       "    </tr>\n",
       "    <tr>\n",
       "      <th>2</th>\n",
       "      <td>2</td>\n",
       "      <td>894</td>\n",
       "      <td>0</td>\n",
       "      <td>2</td>\n",
       "      <td>male</td>\n",
       "      <td>57.0</td>\n",
       "      <td>0.0</td>\n",
       "      <td>0</td>\n",
       "      <td>240276</td>\n",
       "      <td>9.6875</td>\n",
       "      <td>Q</td>\n",
       "    </tr>\n",
       "    <tr>\n",
       "      <th>3</th>\n",
       "      <td>3</td>\n",
       "      <td>895</td>\n",
       "      <td>0</td>\n",
       "      <td>3</td>\n",
       "      <td>male</td>\n",
       "      <td>27.0</td>\n",
       "      <td>0.0</td>\n",
       "      <td>0</td>\n",
       "      <td>315154</td>\n",
       "      <td>8.6625</td>\n",
       "      <td>S</td>\n",
       "    </tr>\n",
       "    <tr>\n",
       "      <th>4</th>\n",
       "      <td>4</td>\n",
       "      <td>896</td>\n",
       "      <td>1</td>\n",
       "      <td>3</td>\n",
       "      <td>female</td>\n",
       "      <td>22.0</td>\n",
       "      <td>1.0</td>\n",
       "      <td>1</td>\n",
       "      <td>3101298</td>\n",
       "      <td>12.2875</td>\n",
       "      <td>S</td>\n",
       "    </tr>\n",
       "    <tr>\n",
       "      <th>...</th>\n",
       "      <td>...</td>\n",
       "      <td>...</td>\n",
       "      <td>...</td>\n",
       "      <td>...</td>\n",
       "      <td>...</td>\n",
       "      <td>...</td>\n",
       "      <td>...</td>\n",
       "      <td>...</td>\n",
       "      <td>...</td>\n",
       "      <td>...</td>\n",
       "      <td>...</td>\n",
       "    </tr>\n",
       "    <tr>\n",
       "      <th>327</th>\n",
       "      <td>409</td>\n",
       "      <td>1301</td>\n",
       "      <td>1</td>\n",
       "      <td>3</td>\n",
       "      <td>female</td>\n",
       "      <td>3.0</td>\n",
       "      <td>1.0</td>\n",
       "      <td>1</td>\n",
       "      <td>SOTON/O.Q. 3101315</td>\n",
       "      <td>13.7750</td>\n",
       "      <td>S</td>\n",
       "    </tr>\n",
       "    <tr>\n",
       "      <th>328</th>\n",
       "      <td>411</td>\n",
       "      <td>1303</td>\n",
       "      <td>1</td>\n",
       "      <td>1</td>\n",
       "      <td>female</td>\n",
       "      <td>37.0</td>\n",
       "      <td>1.0</td>\n",
       "      <td>0</td>\n",
       "      <td>19928</td>\n",
       "      <td>90.0000</td>\n",
       "      <td>Q</td>\n",
       "    </tr>\n",
       "    <tr>\n",
       "      <th>329</th>\n",
       "      <td>412</td>\n",
       "      <td>1304</td>\n",
       "      <td>1</td>\n",
       "      <td>3</td>\n",
       "      <td>female</td>\n",
       "      <td>28.0</td>\n",
       "      <td>0.0</td>\n",
       "      <td>0</td>\n",
       "      <td>347086</td>\n",
       "      <td>7.7750</td>\n",
       "      <td>S</td>\n",
       "    </tr>\n",
       "    <tr>\n",
       "      <th>330</th>\n",
       "      <td>414</td>\n",
       "      <td>1306</td>\n",
       "      <td>1</td>\n",
       "      <td>1</td>\n",
       "      <td>female</td>\n",
       "      <td>39.0</td>\n",
       "      <td>0.0</td>\n",
       "      <td>0</td>\n",
       "      <td>PC 17758</td>\n",
       "      <td>108.9000</td>\n",
       "      <td>C</td>\n",
       "    </tr>\n",
       "    <tr>\n",
       "      <th>331</th>\n",
       "      <td>415</td>\n",
       "      <td>1307</td>\n",
       "      <td>0</td>\n",
       "      <td>3</td>\n",
       "      <td>male</td>\n",
       "      <td>38.0</td>\n",
       "      <td>0.0</td>\n",
       "      <td>0</td>\n",
       "      <td>SOTON/O.Q. 3101262</td>\n",
       "      <td>7.2500</td>\n",
       "      <td>S</td>\n",
       "    </tr>\n",
       "  </tbody>\n",
       "</table>\n",
       "<p>331 rows × 11 columns</p>\n",
       "</div>"
      ],
      "text/plain": [
       "     index  PassengerId  Survived  Pclass     Sex   Age  SibSp  Parch  \\\n",
       "0        0          892         0       3    male  34.0    0.0      0   \n",
       "1        1          893         1       3  female  47.0    1.0      0   \n",
       "2        2          894         0       2    male  57.0    0.0      0   \n",
       "3        3          895         0       3    male  27.0    0.0      0   \n",
       "4        4          896         1       3  female  22.0    1.0      1   \n",
       "..     ...          ...       ...     ...     ...   ...    ...    ...   \n",
       "327    409         1301         1       3  female   3.0    1.0      1   \n",
       "328    411         1303         1       1  female  37.0    1.0      0   \n",
       "329    412         1304         1       3  female  28.0    0.0      0   \n",
       "330    414         1306         1       1  female  39.0    0.0      0   \n",
       "331    415         1307         0       3    male  38.0    0.0      0   \n",
       "\n",
       "                 Ticket      Fare Embarked  \n",
       "0                330911    7.8292        Q  \n",
       "1                363272    7.0000        S  \n",
       "2                240276    9.6875        Q  \n",
       "3                315154    8.6625        S  \n",
       "4               3101298   12.2875        S  \n",
       "..                  ...       ...      ...  \n",
       "327  SOTON/O.Q. 3101315   13.7750        S  \n",
       "328               19928   90.0000        Q  \n",
       "329              347086    7.7750        S  \n",
       "330            PC 17758  108.9000        C  \n",
       "331  SOTON/O.Q. 3101262    7.2500        S  \n",
       "\n",
       "[331 rows x 11 columns]"
      ]
     },
     "execution_count": 24,
     "metadata": {},
     "output_type": "execute_result"
    }
   ],
   "source": [
    "data"
   ]
  },
  {
   "cell_type": "code",
   "execution_count": 25,
   "id": "528f1a5b-c92f-4970-bbc0-6b308f57e91c",
   "metadata": {},
   "outputs": [],
   "source": [
    "# will be continued "
   ]
  },
  {
   "cell_type": "code",
   "execution_count": 77,
   "id": "f99616c0-a31a-467c-9dce-be038a20f641",
   "metadata": {},
   "outputs": [
    {
     "data": {
      "text/plain": [
       "Index(['index', 'PassengerId', 'Survived', 'Pclass', 'Sex', 'Age', 'SibSp',\n",
       "       'Parch', 'Ticket', 'Fare', 'Embarked'],\n",
       "      dtype='object')"
      ]
     },
     "execution_count": 77,
     "metadata": {},
     "output_type": "execute_result"
    }
   ],
   "source": [
    "data.columns"
   ]
  },
  {
   "cell_type": "code",
   "execution_count": 79,
   "id": "d41068f8-3967-4a73-9476-63a62d3191a9",
   "metadata": {},
   "outputs": [],
   "source": [
    "data.drop(columns={\"index\"} , inplace=True)"
   ]
  },
  {
   "cell_type": "code",
   "execution_count": 83,
   "id": "6b211aff-199f-4edc-a526-87c068858fd6",
   "metadata": {},
   "outputs": [
    {
     "data": {
      "text/plain": [
       "Index(['PassengerId', 'Survived', 'Pclass', 'Sex', 'Age', 'SibSp', 'Parch',\n",
       "       'Ticket', 'Fare', 'Embarked'],\n",
       "      dtype='object')"
      ]
     },
     "execution_count": 83,
     "metadata": {},
     "output_type": "execute_result"
    }
   ],
   "source": [
    "data.columns"
   ]
  },
  {
   "cell_type": "code",
   "execution_count": 96,
   "id": "099c07d5-8f29-44e5-b596-0223c9095deb",
   "metadata": {},
   "outputs": [
    {
     "data": {
      "text/plain": [
       "0      Q\n",
       "1      S\n",
       "2      Q\n",
       "3      S\n",
       "4      S\n",
       "      ..\n",
       "327    S\n",
       "328    Q\n",
       "329    S\n",
       "330    C\n",
       "331    S\n",
       "Name: Embarked, Length: 331, dtype: object"
      ]
     },
     "execution_count": 96,
     "metadata": {},
     "output_type": "execute_result"
    }
   ],
   "source": [
    "\n",
    "data.Embarked"
   ]
  },
  {
   "cell_type": "code",
   "execution_count": 85,
   "id": "257256a4-0c51-4f7a-99f9-7ae3cdf3a84f",
   "metadata": {},
   "outputs": [],
   "source": [
    "# developing model \n",
    "from sklearn.model_selection import train_test_split\n",
    "from sklearn.preprocessing import LabelEncoder, StandardScaler\n",
    "from sklearn.ensemble import RandomForestClassifier\n",
    "from sklearn.metrics import accuracy_score, classification_report, confusion_matrix"
   ]
  },
  {
   "cell_type": "code",
   "execution_count": 98,
   "id": "ff8fdae2-fa5d-4acf-9c4e-920f9db3be07",
   "metadata": {},
   "outputs": [],
   "source": [
    "# encode the data \n",
    "Label_encode = LabelEncoder()\n",
    "data['Sex'] = Label_encode.fit_transform(data['Sex'])\n",
    "data['Embarked'] = Label_encode.fit_transform(data['Embarked'])"
   ]
  },
  {
   "cell_type": "code",
   "execution_count": null,
   "id": "69402e3c-9e28-40f7-9952-d0d4c1fece68",
   "metadata": {},
   "outputs": [],
   "source": []
  },
  {
   "cell_type": "code",
   "execution_count": 146,
   "id": "d6f3e54f-bbd9-421d-bfc7-a8163a01bff4",
   "metadata": {},
   "outputs": [],
   "source": [
    "# set the target and features \n",
    "\n",
    "X = data[['Pclass',  'Age', 'SibSp', 'Parch', 'Fare', 'Embarked']]\n",
    "\n",
    "y = data['Survived']"
   ]
  },
  {
   "cell_type": "code",
   "execution_count": null,
   "id": "6f597935-c2cd-4d0d-92bf-1792a29fc675",
   "metadata": {},
   "outputs": [],
   "source": []
  },
  {
   "cell_type": "code",
   "execution_count": 148,
   "id": "010b4576-cc20-469d-959d-58a5a4355ee5",
   "metadata": {},
   "outputs": [],
   "source": [
    "# train test split \n",
    "\n",
    "X_train, X_test, y_train, y_test = train_test_split(X, y, test_size=0.2, random_state=42)\n",
    "\n",
    "Model = RandomForestClassifier(n_estimators=100, max_depth=5, random_state=42)\n",
    "Model.fit(X_train , y_train)  \n",
    "y_pred = Model.predict(X_test) "
   ]
  },
  {
   "cell_type": "code",
   "execution_count": null,
   "id": "47b71f86-ccb0-45e8-8206-a72beea5a9f4",
   "metadata": {},
   "outputs": [],
   "source": []
  },
  {
   "cell_type": "code",
   "execution_count": 150,
   "id": "98d3e885-320f-4f7c-acab-8a7baba740f0",
   "metadata": {},
   "outputs": [
    {
     "name": "stdout",
     "output_type": "stream",
     "text": [
      "Accuracy: 0.69\n",
      "Classification Report:\n",
      "               precision    recall  f1-score   support\n",
      "\n",
      "           0       0.73      0.79      0.76        42\n",
      "           1       0.59      0.52      0.55        25\n",
      "\n",
      "    accuracy                           0.69        67\n",
      "   macro avg       0.66      0.65      0.66        67\n",
      "weighted avg       0.68      0.69      0.68        67\n",
      "\n"
     ]
    }
   ],
   "source": [
    "accuracy = accuracy_score(y_test, y_pred)\n",
    "print(f\"Accuracy: {accuracy:.2f}\")\n",
    "\n",
    "# Classification Report\n",
    "print(\"Classification Report:\\n\", classification_report(y_test, y_pred))"
   ]
  },
  {
   "cell_type": "code",
   "execution_count": 170,
   "id": "c8dac080-3d17-4fe1-9352-0849e6930cdf",
   "metadata": {},
   "outputs": [
    {
     "name": "stdout",
     "output_type": "stream",
     "text": [
      "Survived\n"
     ]
    }
   ],
   "source": [
    "new_passenger = np.array([[3,22, 1, 0, 7.25, 2]])   # [Pclass, Sex, Age, SibSp, Parch, Fare, Embarked]\n",
    "\n",
    "survival_prediction = Model.predict(new_passenger)\n",
    "\n",
    "print(\"Survived\" if survival_prediction[0] == 1 else \"Did Not Survive\")"
   ]
  },
  {
   "cell_type": "code",
   "execution_count": null,
   "id": "b0f617cf-6f1d-43a3-b3dd-384365bf7b48",
   "metadata": {},
   "outputs": [],
   "source": []
  },
  {
   "cell_type": "markdown",
   "id": "6d509b30-2785-489a-8d0e-e2b218a9a5f0",
   "metadata": {},
   "source": [
    "# using Logistic regression "
   ]
  },
  {
   "cell_type": "code",
   "execution_count": 188,
   "id": "a99a4c70-f864-4160-b854-bb4cd4dac905",
   "metadata": {},
   "outputs": [
    {
     "name": "stdout",
     "output_type": "stream",
     "text": [
      "Logistic Regression Accuracy: 0.6716417910447762\n"
     ]
    }
   ],
   "source": [
    "from sklearn.linear_model import LogisticRegression\n",
    "\n",
    "log_reg = LogisticRegression()\n",
    "log_reg.fit(X_train, y_train)\n",
    "print(\"Logistic Regression Accuracy:\", log_reg.score(X_test, y_test))\n",
    "\n",
    "\n"
   ]
  },
  {
   "cell_type": "code",
   "execution_count": 190,
   "id": "e55d07ed-b663-4d93-8968-a37989087f64",
   "metadata": {},
   "outputs": [
    {
     "name": "stdout",
     "output_type": "stream",
     "text": [
      "Did Not Survive\n"
     ]
    }
   ],
   "source": [
    "new_passenger = np.array([[5,25, 0, 1, 8.9, 1]])   # [Pclass, Age, SibSp, Parch, Fare, Embarked]\n",
    "\n",
    "survival_prediction = Model.predict(new_passenger)\n",
    "\n",
    "print(\"Survived\" if survival_prediction[0] == 1 else \"Did Not Survive\")"
   ]
  },
  {
   "cell_type": "code",
   "execution_count": null,
   "id": "8a481ae3-0416-4734-9fd9-c3f73e54f6c0",
   "metadata": {},
   "outputs": [],
   "source": []
  },
  {
   "cell_type": "code",
   "execution_count": null,
   "id": "d33e08b8-2481-44e6-8b36-f025a0031918",
   "metadata": {},
   "outputs": [],
   "source": []
  },
  {
   "cell_type": "code",
   "execution_count": null,
   "id": "7fd7d07d-24d0-4fba-af54-95b9400f58bd",
   "metadata": {},
   "outputs": [],
   "source": [
    "# 2 "
   ]
  },
  {
   "cell_type": "code",
   "execution_count": null,
   "id": "211efef8-b390-4353-8c0f-67c4c4fd0593",
   "metadata": {},
   "outputs": [],
   "source": []
  },
  {
   "cell_type": "code",
   "execution_count": null,
   "id": "5a4c06cf-c88d-46de-8b9e-67e06e4c1dd8",
   "metadata": {},
   "outputs": [],
   "source": []
  },
  {
   "cell_type": "code",
   "execution_count": null,
   "id": "00e6f7f9-f31b-4cec-bc33-f5f946bb47bb",
   "metadata": {},
   "outputs": [],
   "source": []
  },
  {
   "cell_type": "code",
   "execution_count": null,
   "id": "b3db807d-5fae-45e3-a9ea-2c18f787c1ac",
   "metadata": {},
   "outputs": [],
   "source": []
  },
  {
   "cell_type": "code",
   "execution_count": null,
   "id": "29d43d02-ea15-4045-8c16-0299fc348b34",
   "metadata": {},
   "outputs": [],
   "source": []
  },
  {
   "cell_type": "code",
   "execution_count": null,
   "id": "a6e27e26-aa47-44e4-acf5-265448764038",
   "metadata": {},
   "outputs": [],
   "source": []
  },
  {
   "cell_type": "code",
   "execution_count": null,
   "id": "98ea9479-8aec-47a3-8b13-6a6a6b3c2965",
   "metadata": {},
   "outputs": [],
   "source": []
  },
  {
   "cell_type": "code",
   "execution_count": null,
   "id": "75a13c89-628d-43dd-b38a-ec44c00730ac",
   "metadata": {},
   "outputs": [],
   "source": []
  }
 ],
 "metadata": {
  "kernelspec": {
   "display_name": "Python 3 (ipykernel)",
   "language": "python",
   "name": "python3"
  },
  "language_info": {
   "codemirror_mode": {
    "name": "ipython",
    "version": 3
   },
   "file_extension": ".py",
   "mimetype": "text/x-python",
   "name": "python",
   "nbconvert_exporter": "python",
   "pygments_lexer": "ipython3",
   "version": "3.11.7"
  },
  "widgets": {
   "application/vnd.jupyter.widget-state+json": {
    "state": {},
    "version_major": 2,
    "version_minor": 0
   }
  }
 },
 "nbformat": 4,
 "nbformat_minor": 5
}
